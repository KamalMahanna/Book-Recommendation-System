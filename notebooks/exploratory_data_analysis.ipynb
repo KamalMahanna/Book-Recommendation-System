{
 "cells": [
  {
   "cell_type": "code",
   "execution_count": null,
   "metadata": {},
   "outputs": [],
   "source": [
    "# making utils as python module so as to import user defined functions\n",
    "import sys\n",
    "sys.path.append('../utils')\n",
    "\n",
    "# Importing libraries\n",
    "import re\n",
    "import pandas as pd\n",
    "import numpy as np\n",
    "import seaborn as sn\n",
    "from scipy import stats\n",
    "import matplotlib.pyplot as plt\n",
    "import plotly.graph_objects as go\n",
    "from MyFunctions import show_counts, count_num_nonNum, fixing_author, count_null_value, null_counts_pie_chart, clean_location, extract_image"
   ]
  },
  {
   "cell_type": "markdown",
   "metadata": {},
   "source": [
    "## Data Collection"
   ]
  },
  {
   "cell_type": "code",
   "execution_count": null,
   "metadata": {},
   "outputs": [],
   "source": [
    "# Reading csv files\n",
    "book_df=pd.read_csv('../data/raw/Books.csv',low_memory=False)\n",
    "ratings_df=pd.read_csv('../data/raw/Ratings.csv')\n",
    "users_df=pd.read_csv('../data/raw/Users.csv')"
   ]
  },
  {
   "cell_type": "markdown",
   "metadata": {},
   "source": [
    "## Exploratory Data Analysis:"
   ]
  },
  {
   "cell_type": "code",
   "execution_count": null,
   "metadata": {},
   "outputs": [],
   "source": [
    "# Checking for duplicate vaues\n",
    "print('book_df   :',book_df.duplicated().sum())\n",
    "print('ratings_df:',ratings_df.duplicated().sum())\n",
    "print('users_df  :',users_df.duplicated().sum())"
   ]
  },
  {
   "cell_type": "markdown",
   "metadata": {},
   "source": [
    "0 duplicate entries"
   ]
  },
  {
   "cell_type": "code",
   "execution_count": null,
   "metadata": {},
   "outputs": [],
   "source": [
    "# Checking shape of DataFrames\n",
    "print('book_df   :',book_df.shape)\n",
    "print('ratings_df:',ratings_df.shape)\n",
    "print('users_df  :',users_df.shape)"
   ]
  },
  {
   "cell_type": "markdown",
   "metadata": {},
   "source": [
    "#### 1. book_df"
   ]
  },
  {
   "cell_type": "markdown",
   "metadata": {},
   "source": [
    "Can See Some DtypeWarning"
   ]
  },
  {
   "cell_type": "code",
   "execution_count": null,
   "metadata": {},
   "outputs": [],
   "source": [
    "# Checking how the dataframe looks like\n",
    "book_df.sample(5)"
   ]
  },
  {
   "cell_type": "code",
   "execution_count": null,
   "metadata": {},
   "outputs": [],
   "source": [
    "# gaining info of the columns\n",
    "book_df.info(memory_usage='deep')"
   ]
  },
  {
   "cell_type": "markdown",
   "metadata": {},
   "source": [
    " All columns are defied as 'Object' data type which is memory consuming.<br>\n",
    "To fix this we have to check all the values first"
   ]
  },
  {
   "cell_type": "code",
   "execution_count": null,
   "metadata": {},
   "outputs": [],
   "source": [
    "# How many numerical and non numerical values present inside it\n",
    "show_counts(book_df)"
   ]
  },
  {
   "cell_type": "markdown",
   "metadata": {},
   "source": [
    "* ISBN can be a string data type\n",
    "* Book title always be of string data type\n"
   ]
  },
  {
   "cell_type": "code",
   "execution_count": null,
   "metadata": {},
   "outputs": [],
   "source": [
    "# In 'Book-Title' column, we can see 38 numeric values\n",
    "# Lets find out them\n",
    "\n",
    "book_df.iloc[count_num_nonNum(book_df['Book-Title'],return_num_index=True),].head()"
   ]
  },
  {
   "cell_type": "markdown",
   "metadata": {},
   "source": [
    "Seems like these are legit"
   ]
  },
  {
   "cell_type": "code",
   "execution_count": null,
   "metadata": {},
   "outputs": [],
   "source": [
    "# Lets check Book-Author and see why there are 3 integer numbers\n",
    "temp_index = count_num_nonNum(book_df['Book-Author'],return_num_index=True)         # To store index\n",
    "\n",
    "book_df.iloc[temp_index,]"
   ]
  },
  {
   "cell_type": "markdown",
   "metadata": {},
   "source": [
    "except 'ISBN' and 'Book-Title', all columns are missplaced<br>\n",
    "* In 'Book-Title' after   \\\\\"; it is the authors name"
   ]
  },
  {
   "cell_type": "code",
   "execution_count": null,
   "metadata": {},
   "outputs": [],
   "source": [
    "# First fixing all columns repositioning all values\n",
    "book_df.iloc[temp_index,3:]=book_df.iloc[temp_index,2:-1]"
   ]
  },
  {
   "cell_type": "code",
   "execution_count": null,
   "metadata": {},
   "outputs": [],
   "source": [
    "pd.set_option('display.max_colwidth', None)     # To read full text"
   ]
  },
  {
   "cell_type": "code",
   "execution_count": null,
   "metadata": {},
   "outputs": [],
   "source": [
    "# Showing the changes\n",
    "book_df.iloc[temp_index]"
   ]
  },
  {
   "cell_type": "markdown",
   "metadata": {},
   "source": [
    "Now time to change author name"
   ]
  },
  {
   "cell_type": "code",
   "execution_count": null,
   "metadata": {},
   "outputs": [],
   "source": [
    "# Cehcking if any book published by the author 'Jean-Marie Gustave Le ClÃ?Â©zio'\n",
    "book_df[book_df['Book-Author']=='Jean-Marie Gustave Le ClÃ?Â©zio']"
   ]
  },
  {
   "cell_type": "code",
   "execution_count": null,
   "metadata": {},
   "outputs": [],
   "source": [
    "# Actual name of the author is 'Jean-Marie Gustave Le Clézio'\n",
    "book_df[book_df['Book-Author']=='Jean-Marie Gustave Le Clézio']"
   ]
  },
  {
   "cell_type": "markdown",
   "metadata": {},
   "source": [
    "We can change the name but it's not necessary here\n"
   ]
  },
  {
   "cell_type": "code",
   "execution_count": null,
   "metadata": {},
   "outputs": [],
   "source": [
    "# Fixing 'Book-Author' column\n",
    "temp_stor=book_df.iloc[temp_index,1].apply(fixing_author)"
   ]
  },
  {
   "cell_type": "code",
   "execution_count": null,
   "metadata": {},
   "outputs": [],
   "source": [
    "# storing values to both columns\n",
    "book_df.iloc[temp_index,1]=temp_stor.apply(lambda x:x[0])\n",
    "book_df.iloc[temp_index,2]=temp_stor.apply(lambda x:x[1])"
   ]
  },
  {
   "cell_type": "code",
   "execution_count": null,
   "metadata": {},
   "outputs": [],
   "source": [
    "book_df.iloc[temp_index]"
   ]
  },
  {
   "cell_type": "code",
   "execution_count": null,
   "metadata": {},
   "outputs": [],
   "source": [
    "# Checking if all column got fixed or not\n",
    "show_counts(book_df)"
   ]
  },
  {
   "cell_type": "code",
   "execution_count": null,
   "metadata": {},
   "outputs": [],
   "source": [
    "# Checking publisher column\n",
    "book_df.iloc[count_num_nonNum(book_df['Publisher'],return_num_index=True)]"
   ]
  },
  {
   "cell_type": "code",
   "execution_count": null,
   "metadata": {},
   "outputs": [],
   "source": [
    "# All of these above books are published by 10/18\n",
    "# Replacing them with '10/18'\n",
    "book_df.iloc[count_num_nonNum(book_df['Publisher'],return_num_index=True),4]='10/18'"
   ]
  },
  {
   "cell_type": "code",
   "execution_count": null,
   "metadata": {},
   "outputs": [],
   "source": [
    "# Can see some null values present\n",
    "# Checking them\n",
    "count_null_value(book_df)"
   ]
  },
  {
   "cell_type": "code",
   "execution_count": null,
   "metadata": {},
   "outputs": [],
   "source": [
    "sn.heatmap(book_df.isnull(),cbar=False)"
   ]
  },
  {
   "cell_type": "code",
   "execution_count": null,
   "metadata": {},
   "outputs": [],
   "source": [
    "# Book-Author and Publisher has some null values\n",
    "book_df[book_df['Book-Author'].isnull()]"
   ]
  },
  {
   "cell_type": "code",
   "execution_count": null,
   "metadata": {},
   "outputs": [],
   "source": [
    "# Could not find the author name so\n",
    "book_df.loc[187689,'Book-Author']='Sophie Pyott'"
   ]
  },
  {
   "cell_type": "code",
   "execution_count": null,
   "metadata": {},
   "outputs": [],
   "source": [
    "book_df[book_df['Publisher'].isnull()]"
   ]
  },
  {
   "cell_type": "code",
   "execution_count": null,
   "metadata": {},
   "outputs": [],
   "source": [
    "# Both of these books are published by 'Novelbooks'\n",
    "book_df['Publisher'].fillna('Novelbooks',inplace=True)"
   ]
  },
  {
   "cell_type": "code",
   "execution_count": null,
   "metadata": {},
   "outputs": [],
   "source": [
    "# In our dataset, we are given ISBN-10 (Not ISBN-13).\n",
    "# ISBN only contains numbers and sometimes last number as 'X'\n",
    "# Also its length is 10\n",
    "\n",
    "book_df['ISBN'].apply(lambda x: len(x)).value_counts()"
   ]
  },
  {
   "cell_type": "code",
   "execution_count": null,
   "metadata": {},
   "outputs": [],
   "source": [
    "# Some are of length 13 and 11\n",
    "# Lets see who are they\n",
    "\n",
    "book_df.loc[book_df[book_df['ISBN'].apply(lambda x: len(x)!=10)].index]"
   ]
  },
  {
   "cell_type": "code",
   "execution_count": null,
   "metadata": {},
   "outputs": [],
   "source": [
    "# First 10 letters of the string are valid ISBN\n",
    "book_df['ISBN']=book_df['ISBN'].apply(lambda x: x.strip().upper()[:10])"
   ]
  },
  {
   "cell_type": "code",
   "execution_count": null,
   "metadata": {},
   "outputs": [],
   "source": [
    "# Again checking datatypes\n",
    "book_df.info()"
   ]
  },
  {
   "cell_type": "code",
   "execution_count": null,
   "metadata": {},
   "outputs": [],
   "source": [
    "#'Year-Of-Publication' should be 'int' type isn't it !\n",
    "book_df['Year-Of-Publication']=book_df['Year-Of-Publication'].astype('int16')"
   ]
  },
  {
   "cell_type": "code",
   "execution_count": null,
   "metadata": {},
   "outputs": [],
   "source": [
    "# Got a problem with 'Year-Of-Publication'\n",
    "np.sort(book_df['Year-Of-Publication'].unique())\n"
   ]
  },
  {
   "cell_type": "markdown",
   "metadata": {},
   "source": [
    "There are some 0 values present, which is not possible<br>\n",
    "Also 2024!  (A book from the Future!)\n"
   ]
  },
  {
   "cell_type": "code",
   "execution_count": null,
   "metadata": {},
   "outputs": [],
   "source": [
    "# Box plot for 'Year-Of-Publication'\n",
    "go.Figure(go.Box(x=book_df['Year-Of-Publication']))"
   ]
  },
  {
   "cell_type": "markdown",
   "metadata": {},
   "source": [
    "<pre>\n",
    "we will consider those books after year '1806' and before '2023'\n",
    "You might wonder why 1806?\n",
    "If u see all unique years all are in a range of 1800-1900-2000.\n",
    "But 1300 thats 500 years later from the trend.\n",
    "Values which differs significantly from other observations are called outliers right\n",
    "Thats how thses are also outliers</pre>"
   ]
  },
  {
   "cell_type": "code",
   "execution_count": null,
   "metadata": {},
   "outputs": [],
   "source": [
    "\n",
    "book_df.loc[book_df[(book_df['Year-Of-Publication']<1800) | (book_df['Year-Of-Publication']>2023.0)].index,'Year-Of-Publication']=np.nan"
   ]
  },
  {
   "cell_type": "code",
   "execution_count": null,
   "metadata": {},
   "outputs": [],
   "source": [
    "# Null Counts\n",
    "book_df['Year-Of-Publication'].isnull().sum()"
   ]
  },
  {
   "cell_type": "code",
   "execution_count": null,
   "metadata": {},
   "outputs": [],
   "source": [
    "# visualizing what percentage values are null\n",
    "fig = null_counts_pie_chart(book_df['Year-Of-Publication'])\n",
    "fig.show()\n",
    "\n",
    "# saving as html file\n",
    "fig.write_html(\"../Charts/null_year_before_scrapping.html\")"
   ]
  },
  {
   "cell_type": "code",
   "execution_count": null,
   "metadata": {},
   "outputs": [],
   "source": [
    "# To fill those null values we need web scrapping\n",
    "# so dumping book_df\n",
    "book_df.to_csv('../data/processed/book_df_before_scrapping.csv',index=False)"
   ]
  },
  {
   "cell_type": "code",
   "execution_count": null,
   "metadata": {},
   "outputs": [],
   "source": [
    "# reading the scrapped file\n",
    "book_df = pd.read_csv('../data/processed/book_df_after_scrapping.csv', low_memory=False)"
   ]
  },
  {
   "cell_type": "code",
   "execution_count": null,
   "metadata": {},
   "outputs": [],
   "source": [
    "# Again Checking all unique values\n",
    "np.sort(book_df['Year-Of-Publication'].unique())"
   ]
  },
  {
   "cell_type": "markdown",
   "metadata": {},
   "source": [
    "<pre>\n",
    "After scrapping we have can see some values from 13th centuries, also years after 2023.\n",
    "So we conclude that even website are not providing accurate information.\n",
    "</pre>\n"
   ]
  },
  {
   "cell_type": "code",
   "execution_count": null,
   "metadata": {},
   "outputs": [],
   "source": [
    "# Still there are some values wihch is greater than '2023'\n",
    "# This dataset is 2 yaers old i.e from 2021.\n",
    "book_df.loc[book_df[book_df['Year-Of-Publication']>2021.0].index,'Year-Of-Publication']=np.nan"
   ]
  },
  {
   "cell_type": "code",
   "execution_count": null,
   "metadata": {},
   "outputs": [],
   "source": [
    "# Checking How many null values left\n",
    "count_null_value(book_df)"
   ]
  },
  {
   "cell_type": "code",
   "execution_count": null,
   "metadata": {},
   "outputs": [],
   "source": [
    "# Checking what percentage values are null\n",
    "null_counts_pie_chart(book_df['Year-Of-Publication'])\n",
    "fig.show()\n",
    "\n",
    "# saving as html file\n",
    "fig.write_html(\"../Charts/null_year_after_scrapping.html\")"
   ]
  },
  {
   "cell_type": "markdown",
   "metadata": {},
   "source": [
    "With the help of web scrapping we reduced our null values from 1.71% to 0.0479% <br>\n",
    "Should we drop them or impute with mode value?<br>\n",
    "Lets find out"
   ]
  },
  {
   "cell_type": "code",
   "execution_count": null,
   "metadata": {},
   "outputs": [],
   "source": [
    "# Checking the distribution of 'Year-Of-Publication'\n",
    "sn.histplot(book_df['Year-Of-Publication'])"
   ]
  },
  {
   "cell_type": "markdown",
   "metadata": {},
   "source": [
    "After the Year '1950' an exponentially growth of book published can be shown."
   ]
  },
  {
   "cell_type": "code",
   "execution_count": null,
   "metadata": {},
   "outputs": [],
   "source": [
    "# With 'mode' values transformation\n",
    "\n",
    "temp_year=book_df['Year-Of-Publication'].dropna()\n",
    "temp_year_mode_imputed=book_df['Year-Of-Publication'].fillna(stats.mode(temp_year)[0])\n",
    "plt.figure(figsize=(18,6))\n",
    "plt.subplot(1,2,1)\n",
    "sn.histplot(temp_year,\n",
    "            kde=True,\n",
    "            color='#fcb603',\n",
    "            label=f\"Skewness: {stats.skew(temp_year)}\\nKurtosis: {stats.kurtosis(temp_year)}\")\n",
    "plt.legend()\n",
    "plt.subplot(1,2,2)\n",
    "sn.histplot(temp_year_mode_imputed,\n",
    "            kde=True,\n",
    "            color='#03fc28',\n",
    "            label=f\"After 'Mode' imputation\\nSkewness: {stats.skew(temp_year_mode_imputed)}\\nKurtosis: {stats.kurtosis(temp_year_mode_imputed)}\")\n",
    "plt.legend()"
   ]
  },
  {
   "cell_type": "code",
   "execution_count": null,
   "metadata": {},
   "outputs": [],
   "source": [
    "# Note, in 'ISBN' and 'Book-Title' columns we should not have repeated values right!\n",
    "# But...\n",
    "\n",
    "print(f\"In 'ISBN' column we have {book_df['ISBN'].duplicated().sum()} and \\nin 'Book-Title' we have {book_df['Book-Title'].duplicated().sum()} no of duplicate values\")"
   ]
  },
  {
   "cell_type": "code",
   "execution_count": null,
   "metadata": {},
   "outputs": [],
   "source": [
    "# Lets find out\n",
    "book_df['Book-Title'].value_counts()"
   ]
  },
  {
   "cell_type": "code",
   "execution_count": null,
   "metadata": {},
   "outputs": [],
   "source": [
    "# Checking those rows where 'Book-Title' is 'Selected Poems'\n",
    "book_df[book_df['Book-Title']=='Selected Poems'].head()"
   ]
  },
  {
   "cell_type": "markdown",
   "metadata": {},
   "source": [
    "I might wrong here, book title can be same while with a different ISBN no as, Author, Published Year and Publisher can be different."
   ]
  },
  {
   "cell_type": "markdown",
   "metadata": {},
   "source": [
    "Incase a string typed with different cases (i.e upper and lower case)"
   ]
  },
  {
   "cell_type": "code",
   "execution_count": null,
   "metadata": {},
   "outputs": [],
   "source": [
    "# differce of unique values after converting them to lower case\n",
    "book_df['Book-Title'].apply(lambda x:x.strip()).nunique()-book_df['Book-Title'].apply(lambda x:x.lower().strip()).nunique()"
   ]
  },
  {
   "cell_type": "code",
   "execution_count": null,
   "metadata": {},
   "outputs": [],
   "source": [
    "# Finding what are they\n",
    "a=book_df['Book-Title'].apply(lambda x:x.strip()).unique()                # Storing all unique values\n",
    "a=pd.DataFrame(pd.Series(a).apply(lambda x:x.lower()).value_counts())     # count frequencies with lower case letters\n",
    "a[a>1].head()       # only those which are repeated more than once"
   ]
  },
  {
   "cell_type": "code",
   "execution_count": null,
   "metadata": {},
   "outputs": [],
   "source": [
    "# Lets see how book title named 'le vieil homme et la mer' are typed differently\n",
    "book_df[book_df['Book-Title'].apply(lambda x:x.lower().strip())=='le vieil homme et la mer']"
   ]
  },
  {
   "cell_type": "markdown",
   "metadata": {},
   "source": [
    "In last row except 'Le' all are written in lowercase letters, <br>\n",
    "and in second row, 'homme et la' is in lowercase letters."
   ]
  },
  {
   "cell_type": "code",
   "execution_count": null,
   "metadata": {},
   "outputs": [],
   "source": [
    "book_df[['Book-Title', 'Book-Author', 'Publisher']].head()"
   ]
  },
  {
   "cell_type": "code",
   "execution_count": null,
   "metadata": {},
   "outputs": [],
   "source": [
    "# We can do lowercase them all.\n",
    "# Trying something new with 'Title-Case'.\n",
    "# Fixing 'Book-Title', 'Book-Author' and 'Publisher' columns\n",
    "\n",
    "for i in ['Book-Title', 'Book-Author', 'Publisher']:\n",
    "    book_df.loc[:, i] = book_df.loc[:, i].str.title()"
   ]
  },
  {
   "cell_type": "code",
   "execution_count": null,
   "metadata": {},
   "outputs": [],
   "source": [
    "\n",
    "# Here is the result\n",
    "book_df[['Book-Title', 'Book-Author', 'Publisher']].head()"
   ]
  },
  {
   "cell_type": "markdown",
   "metadata": {},
   "source": [
    "Noticed some values are 'Not Applicable (Na )' in Author's name.<br>\n",
    "\n",
    "In general, the use of \"N/A\" or \"Not Applicable\" in the author field of a book record is intended<br>  to indicate that there is no relevant information available or applicable for that field, and should <br>not be interpreted as an error or omission."
   ]
  },
  {
   "cell_type": "code",
   "execution_count": null,
   "metadata": {},
   "outputs": [],
   "source": [
    "temp_na_df=book_df[book_df['Book-Author']=='Not Applicable (Na )']\n",
    "temp_na_df.head(3)"
   ]
  },
  {
   "cell_type": "code",
   "execution_count": null,
   "metadata": {},
   "outputs": [],
   "source": [
    "# Checking how rows have these values\n",
    "fig=go.Figure(go.Pie(labels=['Unknown Authors Count','Known to us'],\n",
    "                    values=[len(temp_na_df),len(book_df)-len(temp_na_df)],\n",
    "                    marker=dict(colors=['#ff0303','#77f7a6']),\n",
    "                    pull=[0,0.1]))\n",
    "fig.update_layout(title=\"Unknown Authors\",\n",
    "                    autosize=False,)\n",
    "fig.show()"
   ]
  },
  {
   "cell_type": "code",
   "execution_count": null,
   "metadata": {},
   "outputs": [],
   "source": [
    "# we can replace them with 'unknown' or 'others' or 'nan'.\n",
    "# But I will go with 'others'\n",
    "\n",
    "book_df.loc[temp_na_df.index,'Book-Author']='others'"
   ]
  },
  {
   "cell_type": "code",
   "execution_count": null,
   "metadata": {},
   "outputs": [],
   "source": [
    "# Noticed '\\' in 'Book-Title' we should replace them\n",
    "\n",
    "book_df['Book-Title']=book_df['Book-Title'].apply(lambda x: x.replace('\\\\',''))"
   ]
  },
  {
   "cell_type": "markdown",
   "metadata": {},
   "source": [
    "* Top 20 Authors who have written the most no of books."
   ]
  },
  {
   "cell_type": "code",
   "execution_count": null,
   "metadata": {},
   "outputs": [],
   "source": [
    "temp_df=book_df['Book-Author'].value_counts()[:20]\n",
    "\n",
    "fig = go.Figure()\n",
    "fig.add_bar(x=temp_df.index,\n",
    "            y=temp_df.values,\n",
    "            text=temp_df.index,\n",
    "            hovertemplate ='Total Books:<br> %{y}<extra></extra>',\n",
    "            marker=dict(color=temp_df.values,\n",
    "                        colorscale='Darkmint'),\n",
    "            marker_line_width=1.,\n",
    "            width=0.6,\n",
    "            marker_line_color='#02b0fa',)\n",
    "annotations=[dict(x=val[0], y=val[1]+20, text=str(val[1]), showarrow=False) for val in zip(temp_df.index, temp_df.values)]\n",
    "fig.update_layout(annotations=annotations,\n",
    "                  template=\"plotly_white\",\n",
    "                  title='<b>Author with most written books<b>',\n",
    "                  margin=dict(t=65),\n",
    "                  xaxis=dict(\n",
    "                            showgrid=False,\n",
    "                            linecolor='#728082',\n",
    "                            showticklabels=False,),\n",
    "                  yaxis=dict(\n",
    "                            showgrid=False,\n",
    "                            title='No of Books',\n",
    "                            linecolor='#728082',\n",
    "                            ticks='outside'),)\n",
    "# saving as html file\n",
    "fig.write_html(\"../Charts/authoer_with_most_books.html\")\n",
    "fig.show()"
   ]
  },
  {
   "cell_type": "markdown",
   "metadata": {},
   "source": [
    "'Agatha Christie', 'William Shakespeare' and 'Stephen King' are the authors who had written most books"
   ]
  },
  {
   "cell_type": "markdown",
   "metadata": {},
   "source": [
    "* Which year have most books published"
   ]
  },
  {
   "cell_type": "code",
   "execution_count": null,
   "metadata": {},
   "outputs": [],
   "source": [
    "temp_df=book_df['Year-Of-Publication'].value_counts().iloc[:20]\n",
    "\n",
    "fig = go.Figure()\n",
    "fig.add_bar(x=temp_df.index,\n",
    "            y=temp_df.values,\n",
    "            text=temp_df.values,\n",
    "            hovertemplate ='Year: %{x}<br>Total Books: %{y}<extra></extra>',\n",
    "            marker=dict(color=temp_df.values,\n",
    "                        colorscale='Tropic'),\n",
    "            textposition='outside',\n",
    "            marker_line_width=1.,\n",
    "            width=0.6,\n",
    "            marker_line_color='#b330ff',)\n",
    "fig.update_layout(template=\"plotly_white\",\n",
    "                  title='<b>The year which had the most no of books published,<b>',\n",
    "                  xaxis=dict(\n",
    "                            title='Year',\n",
    "                            tickvals=temp_df.index,\n",
    "                            linecolor='#728082',\n",
    "                            ticks='outside'),\n",
    "                  yaxis=dict(\n",
    "                            showgrid=False,\n",
    "                            title='No of Books',\n",
    "                            linecolor='#728082',\n",
    "                            ticks='outside'),)\n",
    "# saving as html file\n",
    "fig.write_html(\"../Charts/year_when_most_books.html\")\n",
    "fig.show()"
   ]
  },
  {
   "cell_type": "markdown",
   "metadata": {},
   "source": [
    "After the Year '1999' till '2002' same no of books were published also thses are heighest no of all time.\n"
   ]
  },
  {
   "cell_type": "markdown",
   "metadata": {},
   "source": [
    "* Lets check with different centuries"
   ]
  },
  {
   "cell_type": "code",
   "execution_count": null,
   "metadata": {},
   "outputs": [],
   "source": [
    "fig = go.Figure()\n",
    "temp_df=book_df['Year-Of-Publication'].dropna().apply(lambda x : str(int(x))[:2]).value_counts()\n",
    "fig.add_bar(y=[f'{int(x)}<sup>th</sup>' for x in temp_df.index],\n",
    "            x=temp_df.values,\n",
    "            text=temp_df.values,\n",
    "            orientation='h',\n",
    "            hovertemplate ='Books Count:<br>%{x} <extra></extra>',\n",
    "            marker=dict(color=temp_df.values,\n",
    "                        colorscale='Plotly3'),\n",
    "            textposition='outside',\n",
    "            marker_line_width=1.,\n",
    "            width=0.6,\n",
    "            marker_line_color='#91d2fa',)\n",
    "fig.update_layout(template=\"plotly_white\",\n",
    "                  title='<b>Books published in different centuries</b>',\n",
    "                  xaxis=dict(\n",
    "                            showgrid=False,\n",
    "                            title='No of Books published',\n",
    "                            linecolor='#728082',\n",
    "                            ticks='outside'),\n",
    "                  yaxis=dict(\n",
    "                            title='Centuries',\n",
    "                            linecolor='#728082',\n",
    "                            ticks='outside'),)\n",
    "# saving as html file\n",
    "fig.write_html(\"../Charts/centuries_with_most_books.html\")\n",
    "fig.show()"
   ]
  },
  {
   "cell_type": "markdown",
   "metadata": {},
   "source": [
    "As per the data sets we have, can see 19<sup>th</sup> centuries is there year when must books are published."
   ]
  },
  {
   "cell_type": "markdown",
   "metadata": {},
   "source": [
    "* Which publisher had published most no of books"
   ]
  },
  {
   "cell_type": "code",
   "execution_count": null,
   "metadata": {},
   "outputs": [],
   "source": [
    "# Checking 'publisher' column\n",
    "book_df['Publisher']"
   ]
  },
  {
   "cell_type": "code",
   "execution_count": null,
   "metadata": {},
   "outputs": [],
   "source": [
    "# '&Amp' is a character reference for 'Ampersand'\n",
    "book_df[book_df['Publisher'].apply(lambda x: True if '&Amp;' in x else False)]\n"
   ]
  },
  {
   "cell_type": "code",
   "execution_count": null,
   "metadata": {},
   "outputs": [],
   "source": [
    "# We can replace them with '&'\n",
    "book_df['Publisher']=book_df['Publisher'].apply(lambda x: x.replace('&Amp;','&'))"
   ]
  },
  {
   "cell_type": "code",
   "execution_count": null,
   "metadata": {},
   "outputs": [],
   "source": [
    "# the graph\n",
    "\n",
    "temp_df=book_df['Publisher'].value_counts()[:20]\n",
    "\n",
    "fig = go.Figure()\n",
    "fig.add_bar(x=temp_df.index,\n",
    "            y=temp_df.values,\n",
    "            text=temp_df.index,\n",
    "            hovertemplate ='Total Books:<br> %{y}<extra></extra>',\n",
    "            marker=dict(color=temp_df.values,\n",
    "                        colorscale='Picnic'),\n",
    "            marker_line_width=1.,\n",
    "            width=0.6,\n",
    "            marker_line_color='#02b0fa',)\n",
    "annotations=[dict(x=val[0], y=val[1]+200, text=str(val[1]), showarrow=False) for val in zip(temp_df.index, temp_df.values)]\n",
    "fig.update_layout(annotations=annotations,\n",
    "                  template=\"plotly_white\",\n",
    "                  title='<b>Publisher who published most no of books<b>',\n",
    "                  margin=dict(t=65),\n",
    "                  xaxis=dict(\n",
    "                            showgrid=False,\n",
    "                            title='Publishers',\n",
    "                            linecolor='#728082',\n",
    "                            showticklabels=False,),\n",
    "                  yaxis=dict(\n",
    "                            showgrid=False,\n",
    "                            title='No of Books',\n",
    "                            linecolor='#728082',\n",
    "                            ticks='outside'),)\n",
    "# saving as html file\n",
    "fig.write_html(\"../Charts/Publisher_with_most_books.html\")\n",
    "fig.show()"
   ]
  },
  {
   "cell_type": "markdown",
   "metadata": {},
   "source": [
    "'Harlequin' is the Publisher where most no of books are published"
   ]
  },
  {
   "cell_type": "markdown",
   "metadata": {},
   "source": [
    "#### 2. Users_df"
   ]
  },
  {
   "cell_type": "code",
   "execution_count": null,
   "metadata": {},
   "outputs": [],
   "source": [
    "users_df.head()"
   ]
  },
  {
   "cell_type": "code",
   "execution_count": null,
   "metadata": {},
   "outputs": [],
   "source": [
    "# We dont need User-ID column as it same as index column\n",
    "\n",
    "users_df.drop('User-ID',inplace=True,axis=1)"
   ]
  },
  {
   "cell_type": "code",
   "execution_count": null,
   "metadata": {},
   "outputs": [],
   "source": [
    "# Checking data types\n",
    "users_df.info()"
   ]
  },
  {
   "cell_type": "code",
   "execution_count": null,
   "metadata": {},
   "outputs": [],
   "source": [
    "# Checking if any null values\n",
    "count_null_value(users_df)"
   ]
  },
  {
   "cell_type": "code",
   "execution_count": null,
   "metadata": {},
   "outputs": [],
   "source": [
    "sn.heatmap(users_df.isnull(),cbar=False)"
   ]
  },
  {
   "cell_type": "code",
   "execution_count": null,
   "metadata": {},
   "outputs": [],
   "source": [
    "# visualizing how much null values we have\n",
    "null_counts_pie_chart(users_df['Age'])"
   ]
  },
  {
   "cell_type": "code",
   "execution_count": null,
   "metadata": {},
   "outputs": [],
   "source": [
    "# So many users refused to give their personal details\n",
    "print(f\"{np.around(110762/len(users_df)*100,2)}% of people denied to share their 'Age'\")"
   ]
  },
  {
   "cell_type": "code",
   "execution_count": null,
   "metadata": {},
   "outputs": [],
   "source": [
    "# Checking numeric counts and non numeric counts\n",
    "show_counts(users_df)"
   ]
  },
  {
   "cell_type": "code",
   "execution_count": null,
   "metadata": {},
   "outputs": [],
   "source": [
    "# Checking the distribution of Buyers 'Age'\n",
    "sn.histplot(users_df['Age'],kde=True,color='#1fba04')"
   ]
  },
  {
   "cell_type": "markdown",
   "metadata": {},
   "source": [
    "People's age are crossing 200!!<br>\n",
    "Are they purchasing from Heaven?"
   ]
  },
  {
   "cell_type": "code",
   "execution_count": null,
   "metadata": {},
   "outputs": [],
   "source": [
    "# most children learn to read by age 6 or 7.\n",
    "# Also olds are dying by age 90\n",
    "users_df[(users_df['Age']<7) | (users_df['Age']>90) ]=np.nan"
   ]
  },
  {
   "cell_type": "markdown",
   "metadata": {},
   "source": [
    "    * Which age group is reading more books"
   ]
  },
  {
   "cell_type": "code",
   "execution_count": null,
   "metadata": {},
   "outputs": [],
   "source": [
    "# Making a new column named 'User_groups'\n",
    "users_df['User_groups']=users_df['Age'].apply(lambda x: 'Children' if x <15 else 'Youth' if x <25 else 'Adult' if x <65 else 'Seniors')"
   ]
  },
  {
   "cell_type": "code",
   "execution_count": null,
   "metadata": {},
   "outputs": [],
   "source": [
    "# Visualizing it\n",
    "temp_df=users_df['User_groups'].value_counts()\n",
    "colors=['lightcyan','cyan','royalblue','darkblue']\n",
    "fig=go.Figure(go.Pie(labels=temp_df.index,\n",
    "                     values=temp_df.values,\n",
    "                    #  pull=[0.01 for i in range(4)],\n",
    "                     marker=dict(colors=colors)))\n",
    "fig.update_layout(title=\"Different age group and reading book\",\n",
    "                    autosize=False,)\n",
    "# saving as html file\n",
    "fig.write_html(\"../Charts/age_group_reading_books.html\")\n",
    "fig.show()"
   ]
  },
  {
   "cell_type": "markdown",
   "metadata": {},
   "source": [
    "As we can see, Adults and Seniors are reading more number of books"
   ]
  },
  {
   "cell_type": "code",
   "execution_count": null,
   "metadata": {},
   "outputs": [],
   "source": [
    "# Now checking the null values percentage of 'Age' column\n",
    "null_counts_pie_chart(users_df['Age'])"
   ]
  },
  {
   "cell_type": "code",
   "execution_count": null,
   "metadata": {},
   "outputs": [],
   "source": [
    "print(f\"Around {users_df['Age'].isnull().sum()-110762} users were miss typed their age.\")"
   ]
  },
  {
   "cell_type": "code",
   "execution_count": null,
   "metadata": {},
   "outputs": [],
   "source": [
    "# Lets see after imputing null values with mean values\n",
    "\n",
    "plt.figure(figsize=(16,5))\n",
    "temp_df=users_df['Age'].dropna()\n",
    "plt.subplot(1,2,1)\n",
    "sn.histplot(temp_df,kde=True,label=f\"skewness: {stats.skew(temp_df):.2f}\\nKurtosis: {stats.kurtosis(temp_df):.2f}\")\n",
    "plt.legend()\n",
    "temp_df=users_df['Age'].fillna(users_df['Age'].mean())\n",
    "plt.subplot(1,2,2)\n",
    "sn.histplot(temp_df,kde=True,label=f\"With Mean value Imputation\\nskewness: {stats.skew(temp_df):.2f}\\nKurtosis: {stats.kurtosis(temp_df):.2f}\")\n",
    "plt.legend()"
   ]
  },
  {
   "cell_type": "markdown",
   "metadata": {},
   "source": [
    "Do you think its a good idea to replace null values with 'mean'<br>\n",
    "as it significantly changes the kurtosis values.\n",
    "Even replacing with median values is also not a good idea <br>as we have around 40% data are missing."
   ]
  },
  {
   "cell_type": "markdown",
   "metadata": {},
   "source": [
    "Those red points are newly generated points.<br>\n",
    "We have more than 2.5 lakhs of datas so its hard to visualize them"
   ]
  },
  {
   "cell_type": "code",
   "execution_count": null,
   "metadata": {},
   "outputs": [],
   "source": [
    "# Lets see with histogram\n",
    "\n",
    "plt.figure(figsize=(16,5))\n",
    "temp_df=users_df['Age'].dropna()\n",
    "plt.subplot(1,2,1)\n",
    "sn.histplot(temp_df,kde=True,label=f\"skewness: {stats.skew(temp_df):.2f}\\nKurtosis: {stats.kurtosis(temp_df):.2f}\")\n",
    "plt.legend()\n",
    "temp_df=users_df['Age'].ffill().dropna()\n",
    "plt.subplot(1,2,2)\n",
    "sn.histplot(temp_df,kde=True,label=f\"pad Interpolation\\nskewness: {stats.skew(temp_df):.2f}\\nKurtosis: {stats.kurtosis(temp_df):.2f}\")\n",
    "plt.legend()"
   ]
  },
  {
   "cell_type": "code",
   "execution_count": null,
   "metadata": {},
   "outputs": [],
   "source": [
    "# Now replacing mean with pad interpolated values\n",
    "users_df['Age'].ffill(inplace=True)"
   ]
  },
  {
   "cell_type": "markdown",
   "metadata": {},
   "source": [
    "* which country has the most readers"
   ]
  },
  {
   "cell_type": "code",
   "execution_count": null,
   "metadata": {},
   "outputs": [],
   "source": [
    "# Checking the length of values given by each user\n",
    "users_df['Location'].apply(lambda x: len(str(x).split(','))).value_counts()"
   ]
  },
  {
   "cell_type": "code",
   "execution_count": null,
   "metadata": {},
   "outputs": [],
   "source": [
    "# Need to clean country column\n",
    "users_df['Location']=users_df['Location'].apply(clean_location)"
   ]
  },
  {
   "cell_type": "code",
   "execution_count": null,
   "metadata": {},
   "outputs": [],
   "source": [
    "# again checking length of values\n",
    "users_df['Location'].apply(lambda x:len(x)).value_counts()"
   ]
  },
  {
   "cell_type": "code",
   "execution_count": null,
   "metadata": {},
   "outputs": [],
   "source": [
    "# creating required columns\n",
    "users_df[['Dist','State','Country']]=\"\""
   ]
  },
  {
   "cell_type": "code",
   "execution_count": null,
   "metadata": {},
   "outputs": [],
   "source": [
    "# we can make three column specifing dist,state,country\n",
    "# Also if a row doesn't have all three information we will replace them with nan\n",
    "\n",
    "for i in range(1,4):\n",
    "    users_df.iloc[:,-i]=users_df['Location'].apply(lambda x : x[-i] if len(x)>=i else np.nan)"
   ]
  },
  {
   "cell_type": "code",
   "execution_count": null,
   "metadata": {},
   "outputs": [],
   "source": [
    "# Checking how much null values we have\n",
    "sn.heatmap(users_df.isnull(),cbar=False)"
   ]
  },
  {
   "cell_type": "code",
   "execution_count": null,
   "metadata": {},
   "outputs": [],
   "source": [
    "# Seems like most users have given last word as the country name\n",
    "\n",
    "temp_df=users_df['Country'].value_counts().iloc[:10]\n",
    "\n",
    "# The figure\n",
    "fig = go.Figure()\n",
    "fig.add_bar(x=temp_df.values,\n",
    "            y=temp_df.index,\n",
    "            text=temp_df.values,\n",
    "            orientation='h',\n",
    "            hovertemplate ='Total Book Readers:<br>%{x} <extra></extra>',\n",
    "            marker=dict(color=temp_df.values,\n",
    "                        colorscale='oxy'),\n",
    "            textposition='outside',\n",
    "            marker_line_width=1.,\n",
    "            width=0.6,\n",
    "            marker_line_color='#ff61fa',)\n",
    "fig.update_layout(template=\"plotly_white\",\n",
    "                  title='<b>Users from different country</b>',\n",
    "                  xaxis=dict(\n",
    "                            showgrid=False,\n",
    "                            title='Total users reviewed ',\n",
    "                            linecolor='#728082',\n",
    "                            ticks='outside'),\n",
    "                  yaxis=dict(\n",
    "                            title='Countries',\n",
    "                            linecolor='#728082',\n",
    "                            ticks='outside'),)\n",
    "fig.show()\n",
    "\n",
    "# saving as html file\n",
    "fig.write_html(\"../Charts/users_from_different_country.html\")"
   ]
  },
  {
   "cell_type": "markdown",
   "metadata": {},
   "source": [
    "'USA' has the most readers compared to other countries folowed by 'Canada' and 'UK'."
   ]
  },
  {
   "cell_type": "markdown",
   "metadata": {},
   "source": [
    "#### 3. Ratings _df"
   ]
  },
  {
   "cell_type": "code",
   "execution_count": null,
   "metadata": {},
   "outputs": [],
   "source": [
    "ratings_df.head()"
   ]
  },
  {
   "cell_type": "code",
   "execution_count": null,
   "metadata": {},
   "outputs": [],
   "source": [
    "ratings_df.info()"
   ]
  },
  {
   "cell_type": "code",
   "execution_count": null,
   "metadata": {},
   "outputs": [],
   "source": [
    "# Checking null values\n",
    "count_null_value(ratings_df)"
   ]
  },
  {
   "cell_type": "markdown",
   "metadata": {},
   "source": [
    "* Which user had given most ratings"
   ]
  },
  {
   "cell_type": "code",
   "execution_count": null,
   "metadata": {},
   "outputs": [],
   "source": [
    "temp_df=ratings_df['User-ID'].value_counts().iloc[:20]\n",
    "\n",
    "fig = go.Figure()\n",
    "fig.add_bar(x=[str(x) for x in temp_df.index],\n",
    "            y=temp_df.values,\n",
    "            text=temp_df.values,\n",
    "            hovertemplate ='User ID: %{x}<br>Total Books: %{y}<extra></extra>',\n",
    "            marker=dict(color=temp_df.values,\n",
    "                        colorscale='Geyser'),\n",
    "            textposition='outside',\n",
    "            marker_line_width=1.,\n",
    "            width=0.6,\n",
    "            marker_line_color='#d9ff03',)\n",
    "fig.update_layout(template=\"plotly_white\",\n",
    "                  title='<b>User who rated most no of books<b>',\n",
    "                  xaxis=dict(\n",
    "                            title='User-ID',\n",
    "                            tickvals=temp_df.index,\n",
    "                            linecolor='#728082',\n",
    "                            ticks='outside'),\n",
    "                  yaxis=dict(\n",
    "                            showgrid=False,\n",
    "                            title='No of Books',\n",
    "                            linecolor='#728082',\n",
    "                            ticks='outside'),)\n",
    "fig.show()\n",
    "\n",
    "# saving as html file\n",
    "fig.write_html(\"../Charts/user_id_with_given_ratings.html\")"
   ]
  },
  {
   "cell_type": "markdown",
   "metadata": {},
   "source": [
    "* ratings count"
   ]
  },
  {
   "cell_type": "code",
   "execution_count": null,
   "metadata": {},
   "outputs": [],
   "source": [
    "temp_df=ratings_df['Book-Rating'].value_counts().sort_index()\n",
    "fig = go.Figure()\n",
    "fig.add_bar(y=temp_df.index,\n",
    "            x=temp_df.values,\n",
    "            text=temp_df.values,\n",
    "            orientation='h',\n",
    "            hovertemplate ='Reviewer:<br>%{x} <extra></extra>',\n",
    "            marker=dict(color=temp_df.values,\n",
    "                        colorscale='Rainbow'),\n",
    "            textposition='outside',\n",
    "            marker_line_width=1.,\n",
    "            width=0.6,\n",
    "            marker_line_color='#97ff91',)\n",
    "fig.update_layout(template=\"plotly_white\",\n",
    "                  title='<b>Total Ratings</b>',\n",
    "                  xaxis=dict(\n",
    "                            showgrid=False,\n",
    "                            title='Users',\n",
    "                            linecolor='#728082',\n",
    "                            ticks='outside'),\n",
    "                  yaxis=dict(\n",
    "                            title='Ratings',\n",
    "                            tickvals=temp_df.index,\n",
    "                            linecolor='#728082',\n",
    "                            ticks='outside'),)\n",
    "fig.show()\n",
    "\n",
    "# saving as html file\n",
    "fig.write_html(\"../Charts/most_given_ratings.html\")"
   ]
  },
  {
   "cell_type": "markdown",
   "metadata": {},
   "source": [
    "In most cases, we consider 0 review means that the user have not given any rating."
   ]
  },
  {
   "cell_type": "code",
   "execution_count": null,
   "metadata": {},
   "outputs": [],
   "source": [
    "# So removing all 0 rated row and storing to new dataframe\n",
    "new_ratings_df=ratings_df.copy()\n",
    "\n",
    "new_ratings_df.drop(ratings_df[ratings_df['Book-Rating']==0].index,inplace=True)"
   ]
  },
  {
   "cell_type": "code",
   "execution_count": null,
   "metadata": {},
   "outputs": [],
   "source": [
    "new_ratings_df.head()"
   ]
  },
  {
   "cell_type": "code",
   "execution_count": null,
   "metadata": {},
   "outputs": [],
   "source": [
    "# Making every values of ISBN to upper case, also removing extra spaces\n",
    "new_ratings_df['ISBN']=new_ratings_df['ISBN'].apply(lambda x: x.strip().upper())"
   ]
  },
  {
   "cell_type": "code",
   "execution_count": null,
   "metadata": {},
   "outputs": [],
   "source": [
    "# length of ISBN should be of length 10 right!\n",
    "new_ratings_df['ISBN'].apply(lambda x: len(x)).value_counts()"
   ]
  },
  {
   "cell_type": "code",
   "execution_count": null,
   "metadata": {},
   "outputs": [],
   "source": [
    "# Can see some of them are different from 10, what are they?\n",
    "new_ratings_df[new_ratings_df['ISBN'].apply(lambda x: len(x))!=10]['ISBN'].unique()"
   ]
  },
  {
   "cell_type": "code",
   "execution_count": null,
   "metadata": {},
   "outputs": [],
   "source": [
    "# But ISBN only contains numbers and X\n",
    "new_ratings_df['ISBN']=new_ratings_df['ISBN'].apply(lambda x:re.sub('[^0-9X]','',x))\n",
    "new_ratings_df.head()"
   ]
  },
  {
   "cell_type": "code",
   "execution_count": null,
   "metadata": {},
   "outputs": [],
   "source": [
    "new_ratings_df[new_ratings_df['ISBN'].apply(lambda x: len(x)!=10)].index"
   ]
  },
  {
   "cell_type": "code",
   "execution_count": null,
   "metadata": {},
   "outputs": [],
   "source": [
    "# Dropping all ISBN's which is not of length 10\n",
    "\n",
    "temp_index=new_ratings_df[new_ratings_df['ISBN'].apply(lambda x: len(x)!=10)].index\n",
    "new_ratings_df.drop(index=temp_index,inplace=True)"
   ]
  },
  {
   "cell_type": "code",
   "execution_count": null,
   "metadata": {},
   "outputs": [],
   "source": [
    "new_ratings_df.info()"
   ]
  },
  {
   "cell_type": "code",
   "execution_count": null,
   "metadata": {},
   "outputs": [],
   "source": [
    "# Calculating avg rating and total no of reviewers\n",
    "avg_rating_df=new_ratings_df.groupby('ISBN').agg({'Book-Rating':[np.mean,np.size]})"
   ]
  },
  {
   "cell_type": "code",
   "execution_count": null,
   "metadata": {},
   "outputs": [],
   "source": [
    "avg_rating_df.columns=avg_rating_df.columns.map('-'.join)"
   ]
  },
  {
   "cell_type": "code",
   "execution_count": null,
   "metadata": {},
   "outputs": [],
   "source": [
    "avg_rating_df=avg_rating_df.reset_index().rename(columns={'Book-Rating-size':'Total-Reviewers','Book-Rating-mean':'Book-Rating'})"
   ]
  },
  {
   "cell_type": "markdown",
   "metadata": {},
   "source": [
    "Imagine a book has rated 10 but total reviewer is 1. Can we consider this a popular book?<br>\n",
    "We must specify a criteria to no of reviewers should be greater than a specific no."
   ]
  },
  {
   "cell_type": "code",
   "execution_count": null,
   "metadata": {},
   "outputs": [],
   "source": [
    "avg_rating_df"
   ]
  },
  {
   "cell_type": "code",
   "execution_count": null,
   "metadata": {},
   "outputs": [],
   "source": [
    "# restricting no of reviewers to 10\n",
    "avg_rating_df=avg_rating_df[avg_rating_df['Total-Reviewers']>10]\n",
    "avg_rating_df.head()"
   ]
  },
  {
   "cell_type": "code",
   "execution_count": null,
   "metadata": {},
   "outputs": [],
   "source": [
    "# Checking info\n",
    "avg_rating_df.info()"
   ]
  },
  {
   "cell_type": "markdown",
   "metadata": {},
   "source": [
    "Man! we have only 512 no of rows left.<br>\n",
    "\n",
    "One of the Achievements of Data Scientist😹, agree?🤟"
   ]
  },
  {
   "cell_type": "code",
   "execution_count": null,
   "metadata": {},
   "outputs": [],
   "source": [
    "# merging avg_rating_df with book_df on ISBN\n",
    "mer_rat_book=book_df.merge(avg_rating_df,on='ISBN')\n",
    "mer_rat_book.head(2)"
   ]
  },
  {
   "cell_type": "code",
   "execution_count": null,
   "metadata": {},
   "outputs": [],
   "source": [
    "# dropping small and medium image URLs as we dont need them\n",
    "mer_rat_book.drop(['Image-URL-S','Image-URL-M'],axis=1,inplace=True)"
   ]
  },
  {
   "cell_type": "code",
   "execution_count": null,
   "metadata": {},
   "outputs": [],
   "source": [
    "# keeping decimal points of Rating to 2\n",
    "mer_rat_book['Book-Rating']=mer_rat_book['Book-Rating'].apply(lambda x: np.around(x,2))"
   ]
  },
  {
   "cell_type": "code",
   "execution_count": null,
   "metadata": {},
   "outputs": [],
   "source": [
    "# making Year-Of-Publication to int16 data type\n",
    "mer_rat_book['Year-Of-Publication']=mer_rat_book['Year-Of-Publication'].astype('int16')"
   ]
  },
  {
   "cell_type": "code",
   "execution_count": null,
   "metadata": {},
   "outputs": [],
   "source": [
    "# There may be some column which is repeated\n",
    "# So dropping them\n",
    "mer_rat_book.drop_duplicates(subset='ISBN',inplace=True)"
   ]
  },
  {
   "cell_type": "markdown",
   "metadata": {},
   "source": [
    "* So which is the most popular books"
   ]
  },
  {
   "cell_type": "markdown",
   "metadata": {},
   "source": [
    "On an average if rating is more than 7 and<br>\n",
    "also more than 100 peoples are given rating,<br>\n",
    "then we can say its a popular book."
   ]
  },
  {
   "cell_type": "code",
   "execution_count": null,
   "metadata": {},
   "outputs": [],
   "source": [
    "# restricting ratings to 7 and reviewers to 250 also sorting them by Book-Rating\n",
    "\n",
    "temp_df=mer_rat_book[(mer_rat_book['Total-Reviewers']>250)&(mer_rat_book['Book-Rating']>7)].sort_values(by='Book-Rating',ascending=False).iloc[:10]\n",
    "\n",
    "\n",
    "fig=go.Figure()\n",
    "fig.add_bar(y=temp_df.iloc[:,1],\n",
    "            x=temp_df.iloc[:,-2],\n",
    "            customdata=temp_df.iloc[:,-1],\n",
    "            text=temp_df.iloc[:,-2],\n",
    "            orientation='h',\n",
    "            width = 0.5,\n",
    "            hovertemplate ='Ratings: %{x}<br>Reviewers: %{customdata} <extra></extra>',\n",
    "            marker=dict(color=temp_df.iloc[:,-2],\n",
    "                        colorscale='Sunset'),\n",
    "            textposition='inside',\n",
    "            marker_line_width=1.,\n",
    "            marker_line_color='#b577fc',)\n",
    "\n",
    "fig.update_layout(template=\"plotly_white\",\n",
    "                  title='<b>Famous Books</b>',\n",
    "                #   margin=dict(r=200),\n",
    "                  height=500,\n",
    "                  width=1000,\n",
    "                  xaxis=dict(\n",
    "                            showgrid=False,\n",
    "                            title='Average Ratings',\n",
    "                            linecolor='#728082',\n",
    "                            ticks='outside'),\n",
    "                  yaxis=dict(\n",
    "                            linecolor='#728082',\n",
    "                            ticks='outside'),)\n",
    "\n",
    "for i in range(10):\n",
    "    fig.add_layout_image(dict(\n",
    "                              source=extract_image(temp_df.iloc[i,0],book_df),\n",
    "                              x=temp_df.iloc[i,-2]+ 0.1, y=0.09+0.1*i,\n",
    "                              xref='x', yref='paper',\n",
    "                              sizex=.3, sizey=.3))\n",
    "fig.show()\n",
    "\n",
    "# saving as html file\n",
    "fig.write_html(\"../Charts/famous_books.html\")"
   ]
  },
  {
   "cell_type": "code",
   "execution_count": null,
   "metadata": {},
   "outputs": [],
   "source": [
    "# Dumping necessary csv files so as to built recommender system\n",
    "mer_rat_book.to_csv('../data/processed/mer_rat_book.csv.gz', index=False, compression='gzip')\n",
    "new_ratings_df.to_csv('../data/processed/new_ratings_df.csv', index=False)\n",
    "avg_rating_df.to_csv('../data/processed/avg_rating_df.csv', index=False)\n",
    "book_df.to_csv('../data/processed/book_df_cleaned.csv.gz', index=False,compression='gzip')"
   ]
  },
  {
   "cell_type": "code",
   "execution_count": null,
   "metadata": {},
   "outputs": [],
   "source": []
  }
 ],
 "metadata": {
  "kernelspec": {
   "display_name": "book_rec_env",
   "language": "python",
   "name": "python3"
  },
  "language_info": {
   "codemirror_mode": {
    "name": "ipython",
    "version": 3
   },
   "file_extension": ".py",
   "mimetype": "text/x-python",
   "name": "python",
   "nbconvert_exporter": "python",
   "pygments_lexer": "ipython3",
   "version": "3.12.3"
  }
 },
 "nbformat": 4,
 "nbformat_minor": 2
}
