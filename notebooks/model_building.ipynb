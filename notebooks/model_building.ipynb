{
 "cells": [
  {
   "cell_type": "code",
   "execution_count": null,
   "metadata": {},
   "outputs": [],
   "source": [
    "# adding path to user defined modules\n",
    "import sys\n",
    "sys.path.append('../')\n",
    "\n",
    "# importing modules\n",
    "import tqdm\n",
    "import joblib\n",
    "import pandas as pd\n",
    "from sklearn.metrics.pairwise import cosine_similarity\n",
    "from sklearn.feature_extraction.text import TfidfVectorizer"
   ]
  },
  {
   "cell_type": "markdown",
   "metadata": {},
   "source": [
    "If a user is new to reading books.<br> We can show them most popular books.\n"
   ]
  },
  {
   "cell_type": "markdown",
   "metadata": {},
   "source": [
    "    1. Simple recommendation system"
   ]
  },
  {
   "cell_type": "code",
   "execution_count": null,
   "metadata": {},
   "outputs": [],
   "source": [
    "# reading the csv file\n",
    "mer_rat_book = pd.read_csv('../data/processed/mer_rat_book.csv.gz')"
   ]
  },
  {
   "cell_type": "code",
   "execution_count": null,
   "metadata": {},
   "outputs": [],
   "source": [
    "# lets copy a data frame named popular_books\n",
    "popular_books= mer_rat_book[['ISBN','Book-Rating','Total-Reviewers']].copy()\n",
    "\n",
    "# multiplying ratings with count, which is a better way to filter out popular books\n",
    "popular_books['weighted popularity']=popular_books['Book-Rating']*popular_books['Total-Reviewers']\n",
    "\n",
    "# Sorting them according to the weighted ratings\n",
    "popular_books.sort_values('weighted popularity',ascending=False,inplace=True)"
   ]
  },
  {
   "cell_type": "code",
   "execution_count": null,
   "metadata": {},
   "outputs": [],
   "source": [
    "popular_books.head(5)"
   ]
  },
  {
   "cell_type": "code",
   "execution_count": null,
   "metadata": {},
   "outputs": [],
   "source": [
    "# dumping csv file \n",
    "popular_books['ISBN'].iloc[:30].to_csv('../data/processed/popular_books.csv',index=False)"
   ]
  },
  {
   "cell_type": "code",
   "execution_count": null,
   "metadata": {},
   "outputs": [],
   "source": [
    "# we made a BookRecommender module, importing them\n",
    "from utils.BookRecommender import recommend_popular_books"
   ]
  },
  {
   "cell_type": "code",
   "execution_count": null,
   "metadata": {},
   "outputs": [],
   "source": [
    "# recommendation based on popularity\n",
    "recommend_popular_books(5)"
   ]
  },
  {
   "cell_type": "markdown",
   "metadata": {},
   "source": [
    "    2. Item-Based Collaborative Filtering (corelation )"
   ]
  },
  {
   "cell_type": "code",
   "execution_count": null,
   "metadata": {},
   "outputs": [],
   "source": [
    "# importing necessary csv files\n",
    "new_ratings_df = pd.read_csv(\"../data/processed/new_ratings_df.csv\")\n",
    "avg_rating_df = pd.read_csv(\"../data/processed/avg_rating_df.csv\")"
   ]
  },
  {
   "cell_type": "code",
   "execution_count": null,
   "metadata": {},
   "outputs": [],
   "source": [
    "display(new_ratings_df.sample(3))\n",
    "avg_rating_df.sample(3)"
   ]
  },
  {
   "cell_type": "code",
   "execution_count": null,
   "metadata": {},
   "outputs": [],
   "source": [
    "# We can merge new_ratings_df and  avg_rating_df on 'ISBN'\n",
    "# also make a pivot table where all 'ISBN' are columns, 'User-ID' are rows and 'Book-Rating' are values\n",
    "\n",
    "pivot_table = new_ratings_df.merge(avg_rating_df.iloc[:,[0,-1]],on='ISBN').pivot_table(index='User-ID',columns='ISBN',values='Book-Rating')"
   ]
  },
  {
   "cell_type": "code",
   "execution_count": null,
   "metadata": {},
   "outputs": [],
   "source": [
    "pivot_table.sample(3)"
   ]
  },
  {
   "cell_type": "code",
   "execution_count": null,
   "metadata": {},
   "outputs": [],
   "source": [
    "pivot_table.shape"
   ]
  },
  {
   "cell_type": "code",
   "execution_count": null,
   "metadata": {},
   "outputs": [],
   "source": [
    "# will fill null values with 0\n",
    "pivot_table.fillna(0,inplace=True)"
   ]
  },
  {
   "cell_type": "code",
   "execution_count": null,
   "metadata": {},
   "outputs": [],
   "source": [
    "# due to memory issue, we will store all recommendations of each book in a dictionary\n",
    "corr_rec_dict = dict()"
   ]
  },
  {
   "cell_type": "markdown",
   "metadata": {},
   "source": [
    "Below command will run longer"
   ]
  },
  {
   "cell_type": "code",
   "execution_count": null,
   "metadata": {},
   "outputs": [],
   "source": [
    "# for each book\n",
    "# This will return correlation values with other books\n",
    "# sorting them according to correlation values\n",
    "# will store the index i.e ISBN into the dictionary\n",
    "\n",
    "# for i in tqdm.tqdm(pivot_table.columns):\n",
    "#     corr_isbns = tuple(pivot_table.corrwith(pivot_table[i]).sort_values(ascending=False).iloc[1:31].index)\n",
    "#     corr_rec_dict[i] = corr_isbns"
   ]
  },
  {
   "cell_type": "code",
   "execution_count": null,
   "metadata": {},
   "outputs": [],
   "source": [
    "# dumping the dictionary for later use\n",
    "# joblib.dump(corr_rec_dict,\"../data/processed/corr_rec_dict.joblib.z\")"
   ]
  },
  {
   "cell_type": "code",
   "execution_count": null,
   "metadata": {},
   "outputs": [],
   "source": [
    "# importing corr_recommend that we have created and stored in BookRecommender module\n",
    "from utils.BookRecommender import  corr_recommend"
   ]
  },
  {
   "cell_type": "code",
   "execution_count": null,
   "metadata": {},
   "outputs": [],
   "source": [
    "corr_recommend('0316666343')"
   ]
  },
  {
   "cell_type": "markdown",
   "metadata": {},
   "source": [
    "    3. Content-Based Reccomendation System"
   ]
  },
  {
   "cell_type": "code",
   "execution_count": null,
   "metadata": {},
   "outputs": [],
   "source": [
    "# Combining 'Book-Title','Book-Author','Year-Of-Publication' and 'Publisher' to variable\n",
    "\n",
    "book_description = mer_rat_book.iloc[:,1]+' '+mer_rat_book.iloc[:,2]+' '+mer_rat_book.iloc[:,3].astype('str')+' '+mer_rat_book.iloc[:,4]"
   ]
  },
  {
   "cell_type": "code",
   "execution_count": null,
   "metadata": {},
   "outputs": [],
   "source": [
    "# vectorize our words\n",
    "tfidf=TfidfVectorizer(stop_words='english',ngram_range=(1,3))"
   ]
  },
  {
   "cell_type": "code",
   "execution_count": null,
   "metadata": {},
   "outputs": [],
   "source": [
    "tfidf_matrix = tfidf.fit_transform(book_description)"
   ]
  },
  {
   "cell_type": "code",
   "execution_count": null,
   "metadata": {},
   "outputs": [],
   "source": [
    "tfidf_matrix.shape"
   ]
  },
  {
   "cell_type": "code",
   "execution_count": null,
   "metadata": {},
   "outputs": [],
   "source": [
    "# Now finding cisine similarity\n",
    "cs_matrix = cosine_similarity(tfidf_matrix)"
   ]
  },
  {
   "cell_type": "code",
   "execution_count": null,
   "metadata": {},
   "outputs": [],
   "source": [
    "#\n",
    "cs_matrix.shape"
   ]
  },
  {
   "cell_type": "code",
   "execution_count": null,
   "metadata": {},
   "outputs": [],
   "source": [
    "# # creating dict to recommend books\n",
    "# cont_rec = dict()\n",
    "\n",
    "# for idx in range(len(mer_rat_book)):\n",
    "    \n",
    "#     # sort them according to the cosine similarity\n",
    "#     sort_index=sorted(list(enumerate(cs_matrix[idx])),key=lambda x:x[1],reverse=True) \n",
    "    \n",
    "#     cont_rec[mer_rat_book.loc[idx,'ISBN']] = mer_rat_book.loc[[x[0] for x in sort_index[1:31]],'ISBN'].values"
   ]
  },
  {
   "cell_type": "code",
   "execution_count": null,
   "metadata": {},
   "outputs": [],
   "source": [
    "# # dumping the dictionary\n",
    "# joblib.dump(cont_rec,\"../data/processed/cont_rec.joblib.z\")"
   ]
  },
  {
   "cell_type": "code",
   "execution_count": null,
   "metadata": {},
   "outputs": [],
   "source": [
    "# importing the recommendation engine \n",
    "from utils.BookRecommender import content_based_recommendation"
   ]
  },
  {
   "cell_type": "code",
   "execution_count": null,
   "metadata": {},
   "outputs": [],
   "source": [
    "content_based_recommendation('0609804618')"
   ]
  },
  {
   "cell_type": "code",
   "execution_count": null,
   "metadata": {},
   "outputs": [],
   "source": []
  }
 ],
 "metadata": {
  "kernelspec": {
   "display_name": "book_rec_env",
   "language": "python",
   "name": "python3"
  },
  "language_info": {
   "codemirror_mode": {
    "name": "ipython",
    "version": 3
   },
   "file_extension": ".py",
   "mimetype": "text/x-python",
   "name": "python",
   "nbconvert_exporter": "python",
   "pygments_lexer": "ipython3",
   "version": "3.12.3"
  }
 },
 "nbformat": 4,
 "nbformat_minor": 2
}
